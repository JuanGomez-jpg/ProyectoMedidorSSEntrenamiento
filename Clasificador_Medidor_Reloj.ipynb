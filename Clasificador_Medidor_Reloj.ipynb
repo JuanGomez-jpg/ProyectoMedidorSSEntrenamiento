{
  "nbformat": 4,
  "nbformat_minor": 0,
  "metadata": {
    "colab": {
      "name": "Clasificador Medidor Reloj.ipynb",
      "provenance": [],
      "collapsed_sections": [],
      "mount_file_id": "1lLFLcIa1_aDKpa03csxHka6lcIVPkipw",
      "authorship_tag": "ABX9TyMejfmWBTaSu7I9/Dc/Eckf"
    },
    "kernelspec": {
      "name": "python3",
      "display_name": "Python 3"
    },
    "language_info": {
      "name": "python"
    },
    "accelerator": "GPU",
    "gpuClass": "standard"
  },
  "cells": [
    {
      "cell_type": "code",
      "source": [
        "# Conexión a Google Drive\n",
        "\n",
        "from google.colab import drive\n",
        "drive.mount('/content/gdrive')"
      ],
      "metadata": {
        "id": "7Vi_ZOKiv5eK"
      },
      "execution_count": null,
      "outputs": []
    },
    {
      "cell_type": "code",
      "source": [
        "# Descomprimir el dataset\n",
        "\n",
        "!unzip gdrive/MyDrive/DatasetMedidor/positions_cal.zip"
      ],
      "metadata": {
        "id": "c_giZtVHwN8U"
      },
      "execution_count": null,
      "outputs": []
    },
    {
      "cell_type": "code",
      "source": [
        "import tensorflow as tf\n",
        "import matplotlib.pyplot as plt\n",
        "import cv2\n",
        "import numpy as np"
      ],
      "metadata": {
        "id": "vyY2a2o5rOeV"
      },
      "execution_count": 8,
      "outputs": []
    },
    {
      "cell_type": "code",
      "source": [
        "# Obtener los datos y guardarlos en variables con las que se pueda trabajar\n",
        "\n",
        "img_height, img_width = 224,224\n",
        "BATCH_SIZE = 32\n",
        "\n",
        "train_ds = tf.keras.utils.image_dataset_from_directory(\n",
        "    \"positions_cal/train\",\n",
        "    seed=123,\n",
        "    image_size = (img_height, img_width),\n",
        "    batch_size = BATCH_SIZE\n",
        ")\n",
        "\n",
        "val_ds = tf.keras.utils.image_dataset_from_directory(\n",
        "    \"positions_cal/validation\",\n",
        "    seed=123,\n",
        "    image_size = (img_height, img_width),\n",
        "    batch_size = BATCH_SIZE\n",
        ")\n",
        "\n",
        "#test_ds = tf.keras.utils.image_dataset_from_directory(\n",
        "#    \"positions/test\",\n",
        "#    subset=\"testing\",\n",
        "#    image_size = (img_height, img_width)\n",
        "#    ,batch_size = BATCH_SIZE\n",
        "#)\n",
        "\n"
      ],
      "metadata": {
        "id": "7Gwnne6QRcjV"
      },
      "execution_count": null,
      "outputs": []
    },
    {
      "cell_type": "code",
      "source": [
        "for image_batch, labels_batch in train_ds:\n",
        "  print(image_batch.shape)\n",
        "  print(labels_batch.shape)\n",
        "  break"
      ],
      "metadata": {
        "id": "Gvo-VKipjLiA"
      },
      "execution_count": null,
      "outputs": []
    },
    {
      "cell_type": "code",
      "source": [
        "# Imprimir las clases existentes del dataset\n",
        "\n",
        "class_names = train_ds.class_names\n",
        "print(class_names)"
      ],
      "metadata": {
        "id": "iEZAzJzoKa5i"
      },
      "execution_count": null,
      "outputs": []
    },
    {
      "cell_type": "code",
      "execution_count": null,
      "metadata": {
        "id": "hvpJnjWKNfbm"
      },
      "outputs": [],
      "source": [
        "# Mostrar los datos con sus respectivas etiquetas\n",
        "\n",
        "plt.figure(figsize= (10,10))\n",
        "\n",
        "for i, (images, labels) in enumerate(train_ds.take(25)):\n",
        "  plt.subplot(5, 5, i + 1)\n",
        "  plt.imshow(images[i].numpy().astype(\"uint8\"))\n",
        "  plt.title(class_names[labels[i]])\n",
        "  plt.axis(\"off\")"
      ]
    },
    {
      "cell_type": "code",
      "source": [
        "# Red Neuronal\n",
        "\n",
        "model = tf.keras.Sequential ([\n",
        "     tf.keras.layers.Rescaling(1./255),\n",
        "     tf.keras.layers.Conv2D(32, 3, activation=\"relu\"),\n",
        "     tf.keras.layers.MaxPooling2D(),\n",
        "     tf.keras.layers.Conv2D(32, 3, activation=\"relu\"),\n",
        "     tf.keras.layers.MaxPooling2D(),\n",
        "     tf.keras.layers.Conv2D(32, 3, activation=\"relu\"),\n",
        "     tf.keras.layers.MaxPooling2D(),\n",
        "     tf.keras.layers.Conv2D(32, 3, activation=\"relu\"),\n",
        "     tf.keras.layers.MaxPooling2D(),\n",
        "\n",
        "     tf.keras.layers.Dropout(0.5),\n",
        "     tf.keras.layers.Flatten(),\n",
        "     tf.keras.layers.Dense(128, activation=\"relu\"),\n",
        "     tf.keras.layers.Dense(20)                              \n",
        "])"
      ],
      "metadata": {
        "id": "3PfAfQjkD16Q"
      },
      "execution_count": null,
      "outputs": []
    },
    {
      "cell_type": "code",
      "source": [
        "# Compilador, esto es para obtener una presición de los datos\n",
        "# en base al dato de entrada en la red neuronal.\n",
        "model.compile (\n",
        "    optimizer = \"adam\",\n",
        "    loss = tf.losses.SparseCategoricalCrossentropy(from_logits= True),\n",
        "    metrics = ['accuracy']\n",
        ")"
      ],
      "metadata": {
        "id": "-gMM2wY-ELPr"
      },
      "execution_count": null,
      "outputs": []
    },
    {
      "cell_type": "code",
      "source": [
        "# Entrenamiento\n",
        "\n",
        "EPOCHS = 100;\n",
        "history = model.fit(\n",
        "    train_ds,\n",
        "    validation_data = val_ds,\n",
        "    epochs = EPOCHS,\n",
        "    batch_size = BATCH_SIZE\n",
        ")"
      ],
      "metadata": {
        "id": "ujOuynzqEdfx"
      },
      "execution_count": null,
      "outputs": []
    },
    {
      "cell_type": "code",
      "source": [
        "# Exportar el entrenamiento a un modelo que se pueda trabajar en Android Studio\n",
        "converter = tf.lite.TFLiteConverter.from_keras_model(model)\n",
        "tflite_model = converter.convert()\n",
        "\n",
        "with open(\"model.tflite\", 'wb') as f:\n",
        "  f.write(tflite_model)"
      ],
      "metadata": {
        "id": "I9C79Yj0GPzK"
      },
      "execution_count": null,
      "outputs": []
    },
    {
      "cell_type": "code",
      "source": [
        "# Gráficas del entrenamiento y precisión de la red neuronal\n",
        "\n",
        "acc = history.history['accuracy']\n",
        "val_acc = history.history['val_accuracy']\n",
        "\n",
        "loss = history.history['loss']\n",
        "val_loss = history.history['val_loss']\n",
        "\n",
        "epochs_range = range(EPOCHS)\n",
        "\n",
        "plt.figure(figsize=(8, 8))\n",
        "plt.subplot(1, 2, 1)\n",
        "plt.plot(epochs_range, acc, label='Training Accuracy')\n",
        "plt.plot(epochs_range, val_acc, label='Validation Accuracy')\n",
        "plt.legend(loc='lower right')\n",
        "plt.title('Training and Validation Accuracy')\n",
        "\n",
        "plt.subplot(1, 2, 2)\n",
        "plt.plot(epochs_range, loss, label='Training Loss')\n",
        "plt.plot(epochs_range, val_loss, label='Validation Loss')\n",
        "plt.legend(loc='upper right')\n",
        "plt.title('Training and Validation Loss')\n",
        "plt.show()"
      ],
      "metadata": {
        "id": "6rAIFDRfVeFp"
      },
      "execution_count": null,
      "outputs": []
    }
  ]
}